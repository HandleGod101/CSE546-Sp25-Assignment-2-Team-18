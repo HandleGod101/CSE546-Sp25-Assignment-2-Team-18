{
  "cells": [
    {
      "cell_type": "markdown",
      "id": "9c0d943c",
      "metadata": {
        "id": "9c0d943c"
      },
      "source": [
        "## <center>CSE 546: Reinforcement Learning</center>\n",
        "### <center>Prof. Alina Vereshchaka</center>\n",
        "<!-- ### <center>Fall 2022</center> -->\n",
        "\n",
        "Welcome to the Assignment 2, Part 1: Introduction to Deep Reinforcement Learning and Neural Networks! The goal of this assignment is to make you comfortable with the application of different Neural Network structures depending on how the Reinforcement Learning environment is set up."
      ]
    },
    {
      "cell_type": "code",
      "execution_count": null,
      "id": "t7k0m5o7buue",
      "metadata": {
        "id": "t7k0m5o7buue"
      },
      "outputs": [],
      "source": [
        "import cv2"
      ]
    },
    {
      "cell_type": "code",
      "execution_count": null,
      "id": "c0fc19e1",
      "metadata": {
        "ExecuteTime": {
          "end_time": "2024-09-24T11:30:19.772012Z",
          "start_time": "2024-09-24T11:30:13.828260Z"
        },
        "id": "c0fc19e1"
      },
      "outputs": [],
      "source": [
        "# Imports\n",
        "from environment import WumpusWorldEnvironment"
      ]
    },
    {
      "cell_type": "markdown",
      "id": "87890afd",
      "metadata": {
        "id": "87890afd"
      },
      "source": [
        "# Environment"
      ]
    },
    {
      "cell_type": "markdown",
      "id": "b9dc8362",
      "metadata": {
        "id": "b9dc8362"
      },
      "source": [
        "We will be working with an implementation of the Wumpus World environment. The environment comes from the book \"Artificial Intelligence: A Modern Approach\" by Stuart J. Russell and Peter Norvig.\n",
        "\n",
        "### ENVIRONMENT DETAILS:\n",
        "\n",
        "The environment is a 6 x 6 grid world containing a total of 36 grid blocks.\n",
        "\n",
        "#### ENVIRONMENT OBJECTS:\n",
        "The environment consists of the following objects:\n",
        "\n",
        "1. **Agent** - The agent starts in the grid block at the bottom left corner whose co-ordinates are [0, 0]. The goal of our agent is to collect the Gold while avoiding the Wumpus and the pits.\n",
        "\n",
        "2. **Wumpus** - The monster which would eat the agent if they are in the same grid block.\n",
        "\n",
        "3. **Pit** - The agent must avoid falling into the pits.\n",
        "\n",
        "4. **Gold** - The agent must collect the Gold.\n",
        "\n",
        "5. **Breeze** - Breeze surrounds the Pits and warn the agent of a Pit in an adjacent grid block.\n",
        "\n",
        "6. **Stench** - Stench surrounds the Wumpus and warns the agent of the Wumpus in an adjacent grid block.\n",
        "\n",
        "#### ENVIRONMENT OBSERVATIONS:\n",
        "\n",
        "Our implementation of the environment provides you with four different types of observations:\n",
        "\n",
        "1. **Integer** - Integer in the range [0 - 35]. This represents the grid block the agent is in. E.g., if the agent is in the bottom left grid block (starting position) the observation would be 0, if the agent is in the grid block containing the Gold the observation would be 34, if the agent is in the top right grid block the observation would be 35.\n",
        "\n",
        "2. **Vector** -\n",
        "\n",
        "    **2.1.** A vector of length 2 representing the agent co-ordinates. The first entry represents the x co-ordinate and the second entry represets the y co-ordinate. E.g., if the agent is in the bottom left grid block (starting position) the observation would be [0, 0], if the agent is in the grid block containing the Gold the observation would be [4, 5], if the agent is in the top right grid block the observation would be [5, 5].\n",
        "    \n",
        "    **2.2.** A vector of length 36 representing the one-hot encoding of the integer observation (refer type 1 above). E.g., if the agent is in the bottom left grid block (starting position) the observation would be [1, 0, ..., 0, 0], if the agent is in the grid block containing the Gold the observation would be [0, 0, ..., 1, 0], if the agent is in the top right grid block the observation would be [0, 0, ..., 0, 1].\n",
        "\n",
        "\n",
        "3. **Image** - Image render of the environment returned as an NumPy array. The image size is 84 * 84 (same size used in the DQN paper). E.g., if the agent is in the bottom right grid block the observation is:\n",
        "\n",
        "    Observation: (84 * 84)\n",
        "\n",
        "     [[255 255 255 ... 255 255 255]\n",
        "\n",
        "     [255 255 255 ... 255 255 255]\n",
        "\n",
        "     [255 255 255 ... 255 255 255]\n",
        "\n",
        "     ...\n",
        "\n",
        "     [255 255 255 ... 255 255 255]\n",
        "\n",
        "     [255 255 255 ... 255 255 255]\n",
        "\n",
        "     [255 255 255 ... 255 255 255]]\n",
        "\n",
        "    Observation type: <class 'numpy.ndarray'>\n",
        "\n",
        "    Observation Shape: (84, 84)\n",
        "\n",
        "    Visually, it looks like:\n",
        "    <img src=\"./images/environment_render.png\" width=\"500\" height=\"500\">\n",
        "    \n",
        "\n",
        "4. **Float** - Float in the range [0 - $\\infty$] representing the time elapsed in seconds.\n",
        "\n",
        "#### ENVIRONMENT ACTIONS:\n",
        "\n",
        "Our implementation of the environment provides you with three different types of actions:\n",
        "\n",
        "1. **Discrete** - Integer in the range [0 - 3] representing the four actions possible in the environment as follows: 0 - Right 1 - Left 2 - Up 3 - Down.\n",
        "\n",
        "2. **Multi-Discrete** - Array of length four where each element takes binary values 0 or 1. Array elements represent if we take a particular action. Array element with index 0 corresponds to the right action, index 1 corresponds to the left action, index 2 corresponds to the up action, and index 3 corresponds to the down action. E.g.,\n",
        "   action = [1, 0, 0, 0] would result in the agent moving right.\n",
        "   action = [1, 0, 1, 0] would result in the agent moving right and up.\n",
        "   action = [0, 1, 0, 1] would result in the agent moving left and down.\n",
        "\n",
        "3. **Continuous** - Float in the range [-1, 1] determining whether the agent will go left, right, up, or down as follows:\n",
        "\n",
        "    if -1 <= action <= -0.5:\n",
        "        Go Right.\n",
        "    elif -0.5 < action <= 0:\n",
        "        Go Left.\n",
        "    elif 0 < action <= 0.5:\n",
        "        Go Up.\n",
        "    elif 0.5 < action <= 1:\n",
        "        Go Down.\n",
        "        \n",
        "### YOUR TASK IS TO USE A NEURAL NETWORK TO WORK WITH ALL FOUR TYPES OF OBSERVATIONS AND ALL THREE TYPES OF  ACTIONS.\n",
        "### Note: You don't have to train your agent/neural network. You just have to build the neural network structure that takes the observation as input and produces the desired output with the initial weights.\n",
        "\n",
        "#### You can use libraries such as PyTorch/TensorFlow/Keras to build your neural networks.\n",
        "\n",
        "#### <span style=\"color:red\">You cannot use RL libraries that already provide the neural network to you such as Stable-baselines3, Keras-RL, TF agents, Ray RLLib etc.</span>"
      ]
    },
    {
      "cell_type": "markdown",
      "id": "a6deebbb",
      "metadata": {
        "id": "a6deebbb"
      },
      "source": [
        "<img src=\"./images/wumpus_world_environment.jpg\" width=\"600\" height=\"600\">"
      ]
    },
    {
      "cell_type": "markdown",
      "id": "f2f11e24",
      "metadata": {
        "id": "f2f11e24"
      },
      "source": [
        "# START COMPLETING YOUR ASSIGNMENT HERE"
      ]
    },
    {
      "cell_type": "markdown",
      "id": "729a8768",
      "metadata": {
        "id": "729a8768"
      },
      "source": [
        "## Observation Type - Integer, Action Type - Discrete\n",
        "\n",
        "The part of the assignment requires you to create a sequential dense neural network with 1 hidden layer having 64 neurons and the output layer having 4 neurons. The input to the neural network is an integer (refer to environment observations type 1). The output of the neural network is an array represeting the Q-values from which you will choose an action (refer to environment actions type 1)."
      ]
    },
    {
      "cell_type": "markdown",
      "id": "c596cb95",
      "metadata": {
        "id": "c596cb95"
      },
      "source": [
        "The following figure shows the network structure you will have to use:\n",
        "\n",
        "<img src=\"./images/neural_network_structures/neural_network_1_64_4.png\">"
      ]
    },
    {
      "cell_type": "code",
      "execution_count": null,
      "id": "7b1f4da4",
      "metadata": {
        "ExecuteTime": {
          "end_time": "2024-09-24T11:30:19.791112Z",
          "start_time": "2024-09-24T11:30:19.782559Z"
        },
        "colab": {
          "base_uri": "https://localhost:8080/"
        },
        "id": "7b1f4da4",
        "outputId": "6f814161-9e6d-484a-adcc-1a4eb330ee93"
      },
      "outputs": [
        {
          "name": "stdout",
          "output_type": "stream",
          "text": [
            "Observation: 0\n",
            "Q-values: tensor([ 0.3028,  0.0493, -0.0847,  0.1281], grad_fn=<ViewBackward0>)\n"
          ]
        }
      ],
      "source": [
        "\"\"\"TO DO: Create a neural network, pass it the observation from the environment\n",
        "and get the predicted Q-values for the four actions. Print the observation and the Q-values.\"\"\"\n",
        "\n",
        "environment = WumpusWorldEnvironment(observation_type='integer', action_type='discrete')\n",
        "observation, _ = environment.reset()\n",
        "\n",
        "# BEGIN_YOUR_CODE\n",
        "import torch\n",
        "import torch.nn as nn\n",
        "\n",
        "class NN_one(nn.Module):\n",
        "    def __init__(self):\n",
        "        super(NN_one, self).__init__()\n",
        "        self.fc1 = nn.Linear(1, 64)\n",
        "        self.fc2 = nn.Linear(64, 4)\n",
        "    def forward(self, x):\n",
        "        x = torch.relu(self.fc1(x))\n",
        "        x = self.fc2(x)\n",
        "        return x\n",
        "\n",
        "DiscreteIntegerenvironment = WumpusWorldEnvironment(observation_type='integer', action_type='discrete')\n",
        "observation, _ = DiscreteIntegerenvironment.reset()\n",
        "tensored = torch.tensor([observation], dtype=torch.float32)\n",
        "model_one = NN_one()\n",
        "Q_values = model_one(tensored)\n",
        "\n",
        "print(\"Observation:\", observation) # im guessing first state assigned is always 0\n",
        "print(\"Q-values:\", Q_values)\n",
        "# END_YOUR_CODE"
      ]
    },
    {
      "cell_type": "markdown",
      "id": "b2b233bb",
      "metadata": {
        "id": "b2b233bb"
      },
      "source": [
        "## Observation Type - Vector (2.1), Action Type - Discrete\n",
        "\n",
        "The part of the assignment requires you to create a sequential dense neural network with 1 hidden layer having 64 neurons and the output layer having 4 neurons. The input to the neural network is a vector of length 2 (refer to environment observations type 2.1). The output of the neural network is an array represeting the Q-values from which you will choose an action (refer to environment actions type 1)."
      ]
    },
    {
      "cell_type": "markdown",
      "id": "0e9c4873",
      "metadata": {
        "id": "0e9c4873"
      },
      "source": [
        "The following figure shows the network structure you will have to use:\n",
        "\n",
        "<img src=\"./images/neural_network_structures/neural_network_2_64_4.png\">"
      ]
    },
    {
      "cell_type": "code",
      "execution_count": null,
      "id": "10d985b5",
      "metadata": {
        "ExecuteTime": {
          "end_time": "2024-09-24T11:30:20.039771Z",
          "start_time": "2024-09-24T11:30:20.032436Z"
        },
        "colab": {
          "base_uri": "https://localhost:8080/"
        },
        "id": "10d985b5",
        "outputId": "d8bf1d58-a2b3-47da-8656-062839b4eef5"
      },
      "outputs": [
        {
          "name": "stdout",
          "output_type": "stream",
          "text": [
            "Observation: [0 0]\n",
            "Observation shape: (2,)\n",
            "Q-values: tensor([[ 0.1550,  0.1414, -0.1918, -0.3179]], grad_fn=<AddmmBackward0>)\n"
          ]
        }
      ],
      "source": [
        "\"\"\"TO DO: Create a neural network, pass it the observation from the environment\n",
        "and get the predicted Q-values for the four actions. Print the observation and the Q-values.\"\"\"\n",
        "\n",
        "environment = WumpusWorldEnvironment(observation_type='vector', action_type='discrete')\n",
        "observation, _ = environment.reset()\n",
        "\n",
        "# BEGIN_YOUR_CODE\n",
        "class NN_two(nn.Module):\n",
        "    def __init__(self):\n",
        "        super(NN_two, self).__init__()\n",
        "        self.fc1 = nn.Linear(2, 64) # 2 inputs\n",
        "        self.fc2 = nn.Linear(64, 4)\n",
        "    def forward(self, x):\n",
        "        x = torch.relu(self.fc1(x))\n",
        "        x = self.fc2(x)\n",
        "        return x\n",
        "\n",
        "VectorDiscreteEnvironment = WumpusWorldEnvironment(observation_type='vector', action_type='discrete')\n",
        "observation, _ = VectorDiscreteEnvironment.reset()\n",
        "tensored = torch.tensor(observation, dtype=torch.float32).unsqueeze(0)\n",
        "model_two = NN_two()\n",
        "Q_values = model_two(tensored)\n",
        "\n",
        "print(\"Observation:\", observation)\n",
        "print(\"Observation shape:\", observation.shape)\n",
        "print(\"Q-values:\", Q_values)\n",
        "# END_YOUR_CODE"
      ]
    },
    {
      "cell_type": "markdown",
      "id": "a8957b9f",
      "metadata": {
        "id": "a8957b9f"
      },
      "source": [
        "## Observation Type - Vector (2.2), Action Type - Discrete\n",
        "\n",
        "The part of the assignment requires you to create a sequential dense neural network with 1 hidden layer having 64 neurons and the output layer having 4 neurons. The input to the neural network is a vector of length 36 (refer to environment observations type 2.2). The output of the neural network is an array represeting the Q-values from which you will choose an action (refer to environment actions type 1).\n",
        "\n",
        "**HINT:** Use the integer observation and convert it to a one-hot encoded vector."
      ]
    },
    {
      "cell_type": "markdown",
      "id": "470cf5f8",
      "metadata": {
        "id": "470cf5f8"
      },
      "source": [
        "The following figure shows the network structure you will have to use:\n",
        "\n",
        "<img src=\"./images/neural_network_structures/neural_network_36_64_4.png\">"
      ]
    },
    {
      "cell_type": "code",
      "execution_count": null,
      "id": "ae05b09e",
      "metadata": {
        "ExecuteTime": {
          "end_time": "2024-09-24T11:30:20.058979Z",
          "start_time": "2024-09-24T11:30:20.051638Z"
        },
        "colab": {
          "base_uri": "https://localhost:8080/"
        },
        "id": "ae05b09e",
        "outputId": "ddad629b-bbce-4bdb-9a7b-bfad8e68204c"
      },
      "outputs": [
        {
          "name": "stdout",
          "output_type": "stream",
          "text": [
            "Observation: tensor([1., 0., 0., 0., 0., 0., 0., 0., 0., 0., 0., 0., 0., 0., 0., 0., 0., 0.,\n",
            "        0., 0., 0., 0., 0., 0., 0., 0., 0., 0., 0., 0., 0., 0., 0., 0., 0., 0.])\n",
            "Observation shape: torch.Size([36])\n",
            "Q-values: tensor([ 0.0176, -0.0003,  0.1508,  0.1241], grad_fn=<ViewBackward0>)\n"
          ]
        }
      ],
      "source": [
        "\"\"\"TO DO: Create a neural network, pass it the observation from the environment\n",
        "and get the predicted Q-values for the four actions. Print the observation and the Q-values.\"\"\"\n",
        "\n",
        "environment = WumpusWorldEnvironment(observation_type='integer', action_type='discrete')\n",
        "observation, _ = environment.reset()\n",
        "\n",
        "# BEGIN_YOUR_CODE\n",
        "class NN_three(nn.Module):\n",
        "    def __init__(self):\n",
        "        super(NN_three, self).__init__()\n",
        "        self.fc1 = nn.Linear(36, 64) # 36 inputs\n",
        "        self.fc2 = nn.Linear(64, 4)  # linear activation for 4 units\n",
        "    def forward(self, x):\n",
        "        x = torch.relu(self.fc1(x))\n",
        "        x = self.fc2(x)\n",
        "        return x\n",
        "\n",
        "Thirty6Environment = WumpusWorldEnvironment(observation_type='integer', action_type='discrete')\n",
        "observation, _ = Thirty6Environment.reset()\n",
        "\n",
        "# Use the integer observation and convert it to a one-hot encoded vector.\n",
        "one_hot_encoded = torch.zeros(36)\n",
        "one_hot_encoded[observation] = 1\n",
        "model_three = NN_three()\n",
        "add_dimension = one_hot_encoded\n",
        "Q_values = model_three(add_dimension)\n",
        "\n",
        "print(\"Observation:\", one_hot_encoded)\n",
        "print(\"Observation shape:\", one_hot_encoded.shape)\n",
        "print(\"Q-values:\", Q_values)\n",
        "# END_YOUR_CODE"
      ]
    },
    {
      "cell_type": "markdown",
      "id": "ce19c97b",
      "metadata": {
        "id": "ce19c97b"
      },
      "source": [
        "## Observation Type - Image, Action Type - Discrete\n",
        "\n",
        "The part of the assignment requires you to create a convolutional neural network with one convolutional layer having 128 filters of size 3 x 3, one hidden layer having 64 neurons, and the output layer having 4 neurons. The input to the neural network is an image of size 84 * 84 (refer to environment observations type 3). The output of the neural network is an array represeting the Q-values from which you will choose an action (refer to environment actions type 1)."
      ]
    },
    {
      "cell_type": "markdown",
      "id": "df3d739c",
      "metadata": {
        "id": "df3d739c"
      },
      "source": [
        "The following figure shows the network structure you will have to use:\n",
        "\n",
        "<img src=\"./images/neural_network_structures/convolutional_neural_network_84x84_128_64_4.png\">"
      ]
    },
    {
      "cell_type": "code",
      "execution_count": null,
      "id": "2044da09",
      "metadata": {
        "ExecuteTime": {
          "end_time": "2024-09-24T11:30:21.029222Z",
          "start_time": "2024-09-24T11:30:20.071698Z"
        },
        "colab": {
          "base_uri": "https://localhost:8080/"
        },
        "id": "2044da09",
        "outputId": "e988189a-8fcf-46f4-f485-20301e453dbe"
      },
      "outputs": [
        {
          "name": "stdout",
          "output_type": "stream",
          "text": [
            "Observation: [[255 255 255 ... 255 255 255]\n",
            " [255 255 255 ... 255 255 255]\n",
            " [255 255 255 ... 255 255 255]\n",
            " ...\n",
            " [255 255 255 ... 255 255 255]\n",
            " [255 255 255 ... 255 255 255]\n",
            " [255 255 255 ... 255 255 255]]\n",
            "Observation shape: (84, 84)\n",
            "Q-values: tensor([[  4.0767,  24.1763, -19.7659, -46.9554]], grad_fn=<AddmmBackward0>)\n"
          ]
        }
      ],
      "source": [
        "\"\"\"TO DO: Create a neural network, pass it the observation from the environment\n",
        "and get the predicted Q-values for the four actions. Print the observation and the Q-values.\"\"\"\n",
        "\n",
        "environment = WumpusWorldEnvironment(observation_type='image', action_type='discrete')\n",
        "observation, _ = environment.reset()\n",
        "\n",
        "# BEGIN_YOUR_CODE\n",
        "class NN_four_Convo(nn.Module):\n",
        "    def __init__(self):\n",
        "        super(NN_four_Convo, self).__init__()\n",
        "        self.conv1 = nn.Conv2d(in_channels=1, out_channels=128, kernel_size=3, stride=1, padding=1)\n",
        "        self.fc1 = nn.Linear(84 * 84 * 128, 64)\n",
        "        self.fc2 = nn.Linear(64, 4) #linear activation for 4 output units\n",
        "\n",
        "    def forward(self, x):\n",
        "        x = torch.relu(self.conv1(x))\n",
        "        x = x.view(x.size(0), -1)\n",
        "        x = torch.relu(self.fc1(x))\n",
        "        x = self.fc2(x)\n",
        "        return x\n",
        "\n",
        "ConvolutionalEnvironment = WumpusWorldEnvironment(observation_type='image', action_type='discrete')\n",
        "observation, _ = ConvolutionalEnvironment.reset()\n",
        "\n",
        "# Convert to a tensor\n",
        "tensored = torch.tensor(observation, dtype=torch.float32)\n",
        "\n",
        "# Add a dimension for the batch and we might need another as its a 2d convolutional layer\n",
        "tensored = tensored.unsqueeze(0).unsqueeze(0)\n",
        "model_four = NN_four_Convo()\n",
        "# print(model_four) # Checking model architecture\n",
        "Q_values = model_four(tensored)\n",
        "\n",
        "print(\"Observation:\", observation)\n",
        "print(\"Observation shape:\", observation.shape)\n",
        "print(\"Q-values:\", Q_values)\n",
        "\n",
        "# END_YOUR_CODE"
      ]
    },
    {
      "cell_type": "markdown",
      "id": "64be04fd",
      "metadata": {
        "id": "64be04fd"
      },
      "source": [
        "## Observation Type - Float, Action Type - Discrete\n",
        "\n",
        "The part of the assignment requires you to create a sequential dense neural network with 1 hidden layer having 64 neurons and the output layer having 4 neurons. The input to the neural network is a float (refer to environment observations type 4). The output of the neural network is an array representing the Q-values from which you will choose an action (refer to environment actions type 1)."
      ]
    },
    {
      "cell_type": "markdown",
      "id": "b7ed49e0",
      "metadata": {
        "id": "b7ed49e0"
      },
      "source": [
        "The following figure shows the network structure you will have to use:\n",
        "\n",
        "<img src=\"./images/neural_network_structures/neural_network_1_64_4.png\">"
      ]
    },
    {
      "cell_type": "code",
      "execution_count": null,
      "id": "ea0e4aa6",
      "metadata": {
        "ExecuteTime": {
          "end_time": "2024-09-24T11:30:21.054512Z",
          "start_time": "2024-09-24T11:30:21.045576Z"
        },
        "colab": {
          "base_uri": "https://localhost:8080/"
        },
        "id": "ea0e4aa6",
        "outputId": "d2fc2617-e66f-47a8-d1c6-cb6a8f944990"
      },
      "outputs": [
        {
          "name": "stdout",
          "output_type": "stream",
          "text": [
            "Observation: 0.0\n",
            "Q-values: tensor([ 0.3592,  0.1084, -0.0469, -0.2421], grad_fn=<ViewBackward0>)\n"
          ]
        }
      ],
      "source": [
        "\"\"\"TO DO: Create a neural network, pass it the observation from the environment\n",
        "and get the predicted Q-values for the four actions. Print the observation and the Q-values.\"\"\"\n",
        "\n",
        "environment = WumpusWorldEnvironment(observation_type='float', action_type='discrete')\n",
        "observation, _ = environment.reset()\n",
        "\n",
        "# BEGIN_YOUR_CODE\n",
        "class NN_five(nn.Module):\n",
        "    def __init__(self):\n",
        "        super(NN_five, self).__init__()\n",
        "        self.fc1 = nn.Linear(1, 64)\n",
        "        self.fc2 = nn.Linear(64, 4)\n",
        "    def forward(self, x):\n",
        "        x = torch.relu(self.fc1(x))\n",
        "        x = self.fc2(x)\n",
        "        return x\n",
        "\n",
        "FloatDiscreteEnvironment = WumpusWorldEnvironment(observation_type='float', action_type='discrete')\n",
        "observation, _ = FloatDiscreteEnvironment.reset()\n",
        "tensored = torch.tensor([observation])\n",
        "model_five = NN_five()\n",
        "Q_values = model_five(tensored)\n",
        "\n",
        "print(\"Observation:\", observation)\n",
        "print(\"Q-values:\", Q_values)\n",
        "\n",
        "# END_YOUR_CODE"
      ]
    },
    {
      "cell_type": "markdown",
      "id": "27040465",
      "metadata": {
        "id": "27040465"
      },
      "source": [
        "## Observation Type - Vector (2.2), Action Type - Multi-Discrete\n",
        "\n",
        "The part of the assignment requires you to create a sequential dense neural network with 1 hidden layer having 64 neurons and the output layer having 4 neurons. The input to the neural network is a vector of length 36 (refer to environment observations type 2.2). The output of the neural network is an array representing the probability of choosing the actions. (If the value of the array element is >=0.5 you will perform the action.) (refer to environment actions type 2).\n",
        "\n",
        "**HINT:** Use the integer observation and convert it to a one-hot encoded vector."
      ]
    },
    {
      "cell_type": "markdown",
      "id": "8fe64de9",
      "metadata": {
        "id": "8fe64de9"
      },
      "source": [
        "The following figure shows the network structure you will have to use:\n",
        "\n",
        "<img src=\"./images/neural_network_structures/neural_network_36_64_4_sigmoid.png\">"
      ]
    },
    {
      "cell_type": "code",
      "execution_count": null,
      "id": "00ea3736",
      "metadata": {
        "ExecuteTime": {
          "end_time": "2024-09-24T11:30:21.075465Z",
          "start_time": "2024-09-24T11:30:21.067936Z"
        },
        "colab": {
          "base_uri": "https://localhost:8080/"
        },
        "id": "00ea3736",
        "outputId": "4fd96c48-8645-4d0e-bd54-6131662c1b09"
      },
      "outputs": [
        {
          "name": "stdout",
          "output_type": "stream",
          "text": [
            "Observation: 0\n",
            "Action Probabilities: tensor([0.5191, 0.5120, 0.5119, 0.5150], grad_fn=<SigmoidBackward0>)\n"
          ]
        }
      ],
      "source": [
        "\"\"\"TO DO: Create a neural network, pass it the observation from the environment\n",
        "and get the predicted action probabilities for the four actions. Print the observation and the action probabilities.\"\"\"\n",
        "\n",
        "environment = WumpusWorldEnvironment(observation_type='integer', action_type='multi_discrete')\n",
        "observation, _ = environment.reset()\n",
        "\n",
        "# BEGIN_YOUR_CODE\n",
        "class NN_six(nn.Module):\n",
        "    def __init__(self):\n",
        "        super(NN_six, self).__init__()\n",
        "        self.fc1 = nn.Linear(36, 64) # input units 36\n",
        "        self.fc2 = nn.Linear(64, 4)  #output units : 4\n",
        "        self.sigmoid = nn.Sigmoid()  # Sigmoid activation for ^^\n",
        "\n",
        "    def forward(self, x):\n",
        "        x = torch.relu(self.fc1(x)) #for hidden\n",
        "        x = self.sigmoid(self.fc2(x))  #for output\n",
        "        return x\n",
        "\n",
        "\n",
        "\n",
        "VectorActionEnvironment = WumpusWorldEnvironment(observation_type='integer', action_type='multi_discrete')\n",
        "observation, _ = VectorActionEnvironment.reset()\n",
        "one_hot_encoded = torch.zeros(36)\n",
        "one_hot_encoded[observation] = 1\n",
        "model_six = NN_six()\n",
        "action_probablities = model_six(one_hot_encoded)\n",
        "\n",
        "print(\"Observation:\", observation)\n",
        "print(\"Action Probabilities:\", action_probablities)\n",
        "\n",
        "# END_YOUR_CODE"
      ]
    },
    {
      "cell_type": "markdown",
      "id": "082f05b0",
      "metadata": {
        "id": "082f05b0"
      },
      "source": [
        "## Observation Type - Vector (2.2), Action Type - Continuous\n",
        "\n",
        "The part of the assignment requires you to create a sequential dense neural network with 1 hidden layer having 64 neurons and the output layer having 1 neuron. The input to the neural network is a vector of length 36 (refer to environment observations type 2.2). The output of the neural network is an float in the range [-1, 1] determining the action which will be taken. (refer to environment actions type 3).\n",
        "\n",
        "**HINT:** Use the integer observation and convert it to a one-hot encoded vector and use the TanH activation function to get the output in the range [-1, 1]."
      ]
    },
    {
      "cell_type": "markdown",
      "id": "d8796988",
      "metadata": {
        "id": "d8796988"
      },
      "source": [
        "The following figure shows the network structure you will have to use:\n",
        "\n",
        "<img src=\"./images/neural_network_structures/neural_network_36_64_1.png\">"
      ]
    },
    {
      "cell_type": "code",
      "execution_count": null,
      "id": "b98555f1",
      "metadata": {
        "ExecuteTime": {
          "end_time": "2024-09-24T11:30:21.123624Z",
          "start_time": "2024-09-24T11:30:21.114457Z"
        },
        "colab": {
          "base_uri": "https://localhost:8080/"
        },
        "id": "b98555f1",
        "outputId": "fb5294ae-a270-469d-b813-72134403b3a2"
      },
      "outputs": [
        {
          "name": "stdout",
          "output_type": "stream",
          "text": [
            "Observation: tensor([1., 0., 0., 0., 0., 0., 0., 0., 0., 0., 0., 0., 0., 0., 0., 0., 0., 0.,\n",
            "        0., 0., 0., 0., 0., 0., 0., 0., 0., 0., 0., 0., 0., 0., 0., 0., 0., 0.])\n",
            "Observation shape: torch.Size([36])\n",
            "Predicted Action: 0.16857248544692993\n"
          ]
        }
      ],
      "source": [
        "\"\"\"TO DO: Create a neural network, pass it the observation from the environment\n",
        "and get the predicted action. Print the observation and the predicted action.\"\"\"\n",
        "\n",
        "environment = WumpusWorldEnvironment(observation_type='integer', action_type='continuous')\n",
        "observation, _ = environment.reset()\n",
        "\n",
        "# BEGIN_YOUR_CODE\n",
        "class NN_seven(nn.Module):\n",
        "    def __init__(self):\n",
        "        super(NN_seven, self).__init__()\n",
        "        self.fc1 = nn.Linear(36, 64)\n",
        "        self.fc2 = nn.Linear(64, 1)\n",
        "        self.tanh = nn.Tanh()  #tanh activation on just 1 unit\n",
        "\n",
        "    def forward(self, x):\n",
        "        x = torch.relu(self.fc1(x))\n",
        "        x = self.tanh(self.fc2(x))\n",
        "        return x\n",
        "\n",
        "# Is this correct? Please let us know in feedback. Thank you!\n",
        "\n",
        "environment = WumpusWorldEnvironment(observation_type='integer', action_type='continuous')\n",
        "observation, _ = environment.reset()\n",
        "one_hot_encoded = torch.zeros(36)\n",
        "one_hot_encoded[observation] = 1\n",
        "model_six = NN_seven()\n",
        "actions = model_six(one_hot_encoded)\n",
        "\n",
        "print(\"Observation:\", one_hot_encoded)\n",
        "print(\"Observation shape:\", one_hot_encoded.shape)\n",
        "print(\"Predicted Action:\", actions.item())\n",
        "# END_YOUR_CODE"
      ]
    }
  ],
  "metadata": {
    "colab": {
      "provenance": []
    },
    "kernelspec": {
      "display_name": "Python 3",
      "language": "python",
      "name": "python3"
    },
    "language_info": {
      "codemirror_mode": {
        "name": "ipython",
        "version": 3
      },
      "file_extension": ".py",
      "mimetype": "text/x-python",
      "name": "python",
      "nbconvert_exporter": "python",
      "pygments_lexer": "ipython3",
      "version": "3.12.2"
    }
  },
  "nbformat": 4,
  "nbformat_minor": 5
}
